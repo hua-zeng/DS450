{
 "cells": [
  {
   "cell_type": "markdown",
   "metadata": {},
   "source": [
    "# Decision trees from scratch"
   ]
  },
  {
   "cell_type": "code",
   "execution_count": 2,
   "metadata": {
    "collapsed": false
   },
   "outputs": [
    {
     "name": "stderr",
     "output_type": "stream",
     "text": [
      "C:\\Users\\Hua\\Anaconda2\\lib\\site-packages\\matplotlib\\__init__.py:872: UserWarning: axes.color_cycle is deprecated and replaced with axes.prop_cycle; please use the latter.\n",
      "  warnings.warn(self.msg_depr % (key, alt_key))\n"
     ]
    }
   ],
   "source": [
    "import pandas\n",
    "import numpy\n",
    "import math\n",
    "import matplotlib\n",
    "from matplotlib import pyplot\n",
    "import seaborn\n",
    "from StringIO import StringIO\n",
    "%matplotlib inline"
   ]
  },
  {
   "cell_type": "markdown",
   "metadata": {},
   "source": [
    "## Parse CSV dataset into a (pandas) dataframe"
   ]
  },
  {
   "cell_type": "code",
   "execution_count": 4,
   "metadata": {
    "collapsed": false
   },
   "outputs": [
    {
     "data": {
      "text/html": [
       "<div>\n",
       "<table border=\"1\" class=\"dataframe\">\n",
       "  <thead>\n",
       "    <tr style=\"text-align: right;\">\n",
       "      <th></th>\n",
       "      <th>outlook</th>\n",
       "      <th>temperature</th>\n",
       "      <th>humidity</th>\n",
       "      <th>windy</th>\n",
       "      <th>label</th>\n",
       "    </tr>\n",
       "  </thead>\n",
       "  <tbody>\n",
       "    <tr>\n",
       "      <th>0</th>\n",
       "      <td>sunny</td>\n",
       "      <td>hot</td>\n",
       "      <td>high</td>\n",
       "      <td>False</td>\n",
       "      <td>n</td>\n",
       "    </tr>\n",
       "    <tr>\n",
       "      <th>1</th>\n",
       "      <td>sunny</td>\n",
       "      <td>hot</td>\n",
       "      <td>high</td>\n",
       "      <td>True</td>\n",
       "      <td>n</td>\n",
       "    </tr>\n",
       "    <tr>\n",
       "      <th>2</th>\n",
       "      <td>overcast</td>\n",
       "      <td>hot</td>\n",
       "      <td>high</td>\n",
       "      <td>False</td>\n",
       "      <td>p</td>\n",
       "    </tr>\n",
       "  </tbody>\n",
       "</table>\n",
       "</div>"
      ],
      "text/plain": [
       "    outlook temperature humidity  windy label\n",
       "0     sunny         hot     high  False     n\n",
       "1     sunny         hot     high   True     n\n",
       "2  overcast         hot     high  False     p"
      ]
     },
     "execution_count": 4,
     "metadata": {},
     "output_type": "execute_result"
    }
   ],
   "source": [
    "weather_csv = StringIO(\"\"\"outlook,temperature,humidity,windy,label\n",
    "sunny,hot,high,false,n\n",
    "sunny,hot,high,True,n\n",
    "overcast,hot,high,False,p\n",
    "rain,mild,high,False,p\n",
    "rain,cool,normal,False,p\n",
    "rain,cool,normal,True,n\n",
    "overcast,cool,normal,True,p\n",
    "sunny,mild,high,False,n\n",
    "sunny,cool,normal,False,p\n",
    "rain,mild,normal,False,p\n",
    "sunny,mild,normal,True,p\n",
    "overcast,mild,high,True,p\n",
    "overcast,hot,normal,False,p\"\"\")\n",
    "\n",
    "weather = pandas.read_csv(weather_csv)\n",
    "weather[:3]"
   ]
  },
  {
   "cell_type": "markdown",
   "metadata": {},
   "source": [
    "## Attributes for each observation\n",
    "\n",
    "```\n",
    "outlook = {sunny, overcast, rain}\n",
    "\n",
    "temperature = {hot, mild, cool}\n",
    "\n",
    "humidity = {high, normal}\n",
    "\n",
    "windy = {true, false}\n",
    "```"
   ]
  },
  {
   "cell_type": "markdown",
   "metadata": {},
   "source": [
    "### Extracting all examples where we want to play golf"
   ]
  },
  {
   "cell_type": "code",
   "execution_count": 5,
   "metadata": {
    "collapsed": false
   },
   "outputs": [
    {
     "data": {
      "text/html": [
       "<div>\n",
       "<table border=\"1\" class=\"dataframe\">\n",
       "  <thead>\n",
       "    <tr style=\"text-align: right;\">\n",
       "      <th></th>\n",
       "      <th>outlook</th>\n",
       "      <th>temperature</th>\n",
       "      <th>humidity</th>\n",
       "      <th>windy</th>\n",
       "      <th>label</th>\n",
       "    </tr>\n",
       "  </thead>\n",
       "  <tbody>\n",
       "    <tr>\n",
       "      <th>2</th>\n",
       "      <td>overcast</td>\n",
       "      <td>hot</td>\n",
       "      <td>high</td>\n",
       "      <td>False</td>\n",
       "      <td>p</td>\n",
       "    </tr>\n",
       "    <tr>\n",
       "      <th>3</th>\n",
       "      <td>rain</td>\n",
       "      <td>mild</td>\n",
       "      <td>high</td>\n",
       "      <td>False</td>\n",
       "      <td>p</td>\n",
       "    </tr>\n",
       "    <tr>\n",
       "      <th>4</th>\n",
       "      <td>rain</td>\n",
       "      <td>cool</td>\n",
       "      <td>normal</td>\n",
       "      <td>False</td>\n",
       "      <td>p</td>\n",
       "    </tr>\n",
       "    <tr>\n",
       "      <th>6</th>\n",
       "      <td>overcast</td>\n",
       "      <td>cool</td>\n",
       "      <td>normal</td>\n",
       "      <td>True</td>\n",
       "      <td>p</td>\n",
       "    </tr>\n",
       "    <tr>\n",
       "      <th>8</th>\n",
       "      <td>sunny</td>\n",
       "      <td>cool</td>\n",
       "      <td>normal</td>\n",
       "      <td>False</td>\n",
       "      <td>p</td>\n",
       "    </tr>\n",
       "    <tr>\n",
       "      <th>9</th>\n",
       "      <td>rain</td>\n",
       "      <td>mild</td>\n",
       "      <td>normal</td>\n",
       "      <td>False</td>\n",
       "      <td>p</td>\n",
       "    </tr>\n",
       "    <tr>\n",
       "      <th>10</th>\n",
       "      <td>sunny</td>\n",
       "      <td>mild</td>\n",
       "      <td>normal</td>\n",
       "      <td>True</td>\n",
       "      <td>p</td>\n",
       "    </tr>\n",
       "    <tr>\n",
       "      <th>11</th>\n",
       "      <td>overcast</td>\n",
       "      <td>mild</td>\n",
       "      <td>high</td>\n",
       "      <td>True</td>\n",
       "      <td>p</td>\n",
       "    </tr>\n",
       "    <tr>\n",
       "      <th>12</th>\n",
       "      <td>overcast</td>\n",
       "      <td>hot</td>\n",
       "      <td>normal</td>\n",
       "      <td>False</td>\n",
       "      <td>p</td>\n",
       "    </tr>\n",
       "  </tbody>\n",
       "</table>\n",
       "</div>"
      ],
      "text/plain": [
       "     outlook temperature humidity  windy label\n",
       "2   overcast         hot     high  False     p\n",
       "3       rain        mild     high  False     p\n",
       "4       rain        cool   normal  False     p\n",
       "6   overcast        cool   normal   True     p\n",
       "8      sunny        cool   normal  False     p\n",
       "9       rain        mild   normal  False     p\n",
       "10     sunny        mild   normal   True     p\n",
       "11  overcast        mild     high   True     p\n",
       "12  overcast         hot   normal  False     p"
      ]
     },
     "execution_count": 5,
     "metadata": {},
     "output_type": "execute_result"
    }
   ],
   "source": [
    "weather[weather.label == 'p']"
   ]
  },
  {
   "cell_type": "code",
   "execution_count": 6,
   "metadata": {
    "collapsed": false
   },
   "outputs": [
    {
     "data": {
      "text/html": [
       "<div>\n",
       "<table border=\"1\" class=\"dataframe\">\n",
       "  <thead>\n",
       "    <tr style=\"text-align: right;\">\n",
       "      <th></th>\n",
       "      <th>outlook</th>\n",
       "      <th>temperature</th>\n",
       "      <th>humidity</th>\n",
       "      <th>windy</th>\n",
       "      <th>label</th>\n",
       "    </tr>\n",
       "  </thead>\n",
       "  <tbody>\n",
       "    <tr>\n",
       "      <th>0</th>\n",
       "      <td>sunny</td>\n",
       "      <td>hot</td>\n",
       "      <td>high</td>\n",
       "      <td>False</td>\n",
       "      <td>n</td>\n",
       "    </tr>\n",
       "    <tr>\n",
       "      <th>1</th>\n",
       "      <td>sunny</td>\n",
       "      <td>hot</td>\n",
       "      <td>high</td>\n",
       "      <td>True</td>\n",
       "      <td>n</td>\n",
       "    </tr>\n",
       "    <tr>\n",
       "      <th>2</th>\n",
       "      <td>overcast</td>\n",
       "      <td>hot</td>\n",
       "      <td>high</td>\n",
       "      <td>False</td>\n",
       "      <td>p</td>\n",
       "    </tr>\n",
       "    <tr>\n",
       "      <th>3</th>\n",
       "      <td>rain</td>\n",
       "      <td>mild</td>\n",
       "      <td>high</td>\n",
       "      <td>False</td>\n",
       "      <td>p</td>\n",
       "    </tr>\n",
       "    <tr>\n",
       "      <th>4</th>\n",
       "      <td>rain</td>\n",
       "      <td>cool</td>\n",
       "      <td>normal</td>\n",
       "      <td>False</td>\n",
       "      <td>p</td>\n",
       "    </tr>\n",
       "    <tr>\n",
       "      <th>5</th>\n",
       "      <td>rain</td>\n",
       "      <td>cool</td>\n",
       "      <td>normal</td>\n",
       "      <td>True</td>\n",
       "      <td>n</td>\n",
       "    </tr>\n",
       "    <tr>\n",
       "      <th>6</th>\n",
       "      <td>overcast</td>\n",
       "      <td>cool</td>\n",
       "      <td>normal</td>\n",
       "      <td>True</td>\n",
       "      <td>p</td>\n",
       "    </tr>\n",
       "    <tr>\n",
       "      <th>7</th>\n",
       "      <td>sunny</td>\n",
       "      <td>mild</td>\n",
       "      <td>high</td>\n",
       "      <td>False</td>\n",
       "      <td>n</td>\n",
       "    </tr>\n",
       "    <tr>\n",
       "      <th>8</th>\n",
       "      <td>sunny</td>\n",
       "      <td>cool</td>\n",
       "      <td>normal</td>\n",
       "      <td>False</td>\n",
       "      <td>p</td>\n",
       "    </tr>\n",
       "    <tr>\n",
       "      <th>9</th>\n",
       "      <td>rain</td>\n",
       "      <td>mild</td>\n",
       "      <td>normal</td>\n",
       "      <td>False</td>\n",
       "      <td>p</td>\n",
       "    </tr>\n",
       "    <tr>\n",
       "      <th>10</th>\n",
       "      <td>sunny</td>\n",
       "      <td>mild</td>\n",
       "      <td>normal</td>\n",
       "      <td>True</td>\n",
       "      <td>p</td>\n",
       "    </tr>\n",
       "    <tr>\n",
       "      <th>11</th>\n",
       "      <td>overcast</td>\n",
       "      <td>mild</td>\n",
       "      <td>high</td>\n",
       "      <td>True</td>\n",
       "      <td>p</td>\n",
       "    </tr>\n",
       "    <tr>\n",
       "      <th>12</th>\n",
       "      <td>overcast</td>\n",
       "      <td>hot</td>\n",
       "      <td>normal</td>\n",
       "      <td>False</td>\n",
       "      <td>p</td>\n",
       "    </tr>\n",
       "  </tbody>\n",
       "</table>\n",
       "</div>"
      ],
      "text/plain": [
       "     outlook temperature humidity  windy label\n",
       "0      sunny         hot     high  False     n\n",
       "1      sunny         hot     high   True     n\n",
       "2   overcast         hot     high  False     p\n",
       "3       rain        mild     high  False     p\n",
       "4       rain        cool   normal  False     p\n",
       "5       rain        cool   normal   True     n\n",
       "6   overcast        cool   normal   True     p\n",
       "7      sunny        mild     high  False     n\n",
       "8      sunny        cool   normal  False     p\n",
       "9       rain        mild   normal  False     p\n",
       "10     sunny        mild   normal   True     p\n",
       "11  overcast        mild     high   True     p\n",
       "12  overcast         hot   normal  False     p"
      ]
     },
     "execution_count": 6,
     "metadata": {},
     "output_type": "execute_result"
    }
   ],
   "source": [
    "# Convert the string features to categorical features\n",
    "for c in weather.columns:\n",
    "    weather[c] = weather[c].astype('category')\n",
    "weather"
   ]
  },
  {
   "cell_type": "code",
   "execution_count": 7,
   "metadata": {
    "collapsed": false
   },
   "outputs": [
    {
     "data": {
      "text/plain": [
       "[('high', 0),\n",
       " ('high', 0),\n",
       " ('high', 0),\n",
       " ('high', 0),\n",
       " ('normal', 1),\n",
       " ('normal', 1),\n",
       " ('normal', 1),\n",
       " ('high', 0),\n",
       " ('normal', 1),\n",
       " ('normal', 1),\n",
       " ('normal', 1),\n",
       " ('high', 0),\n",
       " ('normal', 1)]"
      ]
     },
     "execution_count": 7,
     "metadata": {},
     "output_type": "execute_result"
    }
   ],
   "source": [
    "# categories provide a stable string => ordinal assignment\n",
    "list(zip(weather.humidity, weather.humidity.cat.codes))"
   ]
  },
  {
   "cell_type": "markdown",
   "metadata": {},
   "source": [
    "## Computing entropy of a set of examples"
   ]
  },
  {
   "cell_type": "code",
   "execution_count": 8,
   "metadata": {
    "collapsed": false
   },
   "outputs": [
    {
     "data": {
      "text/plain": [
       "[n, p]\n",
       "Categories (2, object): [n, p]"
      ]
     },
     "execution_count": 8,
     "metadata": {},
     "output_type": "execute_result"
    }
   ],
   "source": [
    "CLASSES = weather.label.unique()\n",
    "CLASSES"
   ]
  },
  {
   "cell_type": "code",
   "execution_count": 9,
   "metadata": {
    "collapsed": false
   },
   "outputs": [
    {
     "name": "stdout",
     "output_type": "stream",
     "text": [
      "P(n) = 0.31\n",
      "P(p) = 0.69\n",
      "total entropy: 0.890\n"
     ]
    }
   ],
   "source": [
    "# implement info gain on this categorical data\n",
    "examples = weather[:]\n",
    "class_counts = examples.groupby('label').size()\n",
    "total_count = len(examples)\n",
    "\n",
    "total_entropy = 0\n",
    "for class_label, class_count in examples.groupby('label').size().iteritems():\n",
    "    class_prob = float(class_count) / total_count\n",
    "    print 'P(%s) = %.2f' % (class_label, class_prob)\n",
    "    total_entropy += -(class_prob * math.log(class_prob, 2))\n",
    "print 'total entropy: %.3f' % total_entropy"
   ]
  },
  {
   "cell_type": "code",
   "execution_count": 10,
   "metadata": {
    "collapsed": false
   },
   "outputs": [
    {
     "data": {
      "text/plain": [
       "(0.8904916402194913, 1.0380478597756913)"
      ]
     },
     "execution_count": 10,
     "metadata": {},
     "output_type": "execute_result"
    }
   ],
   "source": [
    "def entropy(examples):\n",
    "    total_entropy = 0\n",
    "    for class_label, class_count in examples.groupby('label').size().iteritems():\n",
    "        if class_count > 0:\n",
    "            class_prob = float(class_count) / total_count\n",
    "            total_entropy += -(class_prob * math.log(class_prob, 2))\n",
    "    return total_entropy\n",
    "\n",
    "entropy(weather[:]), entropy(weather[:10])"
   ]
  },
  {
   "cell_type": "markdown",
   "metadata": {},
   "source": [
    "## Computing information gain from a proposed attribute split"
   ]
  },
  {
   "cell_type": "markdown",
   "metadata": {},
   "source": [
    "Selecting subsets from the dataframe based on attribute value"
   ]
  },
  {
   "cell_type": "code",
   "execution_count": 12,
   "metadata": {
    "collapsed": false
   },
   "outputs": [
    {
     "data": {
      "text/html": [
       "<div>\n",
       "<table border=\"1\" class=\"dataframe\">\n",
       "  <thead>\n",
       "    <tr style=\"text-align: right;\">\n",
       "      <th></th>\n",
       "      <th>outlook</th>\n",
       "      <th>temperature</th>\n",
       "      <th>humidity</th>\n",
       "      <th>windy</th>\n",
       "      <th>label</th>\n",
       "    </tr>\n",
       "  </thead>\n",
       "  <tbody>\n",
       "    <tr>\n",
       "      <th>0</th>\n",
       "      <td>sunny</td>\n",
       "      <td>hot</td>\n",
       "      <td>high</td>\n",
       "      <td>False</td>\n",
       "      <td>n</td>\n",
       "    </tr>\n",
       "    <tr>\n",
       "      <th>1</th>\n",
       "      <td>sunny</td>\n",
       "      <td>hot</td>\n",
       "      <td>high</td>\n",
       "      <td>True</td>\n",
       "      <td>n</td>\n",
       "    </tr>\n",
       "    <tr>\n",
       "      <th>2</th>\n",
       "      <td>overcast</td>\n",
       "      <td>hot</td>\n",
       "      <td>high</td>\n",
       "      <td>False</td>\n",
       "      <td>p</td>\n",
       "    </tr>\n",
       "    <tr>\n",
       "      <th>3</th>\n",
       "      <td>rain</td>\n",
       "      <td>mild</td>\n",
       "      <td>high</td>\n",
       "      <td>False</td>\n",
       "      <td>p</td>\n",
       "    </tr>\n",
       "    <tr>\n",
       "      <th>7</th>\n",
       "      <td>sunny</td>\n",
       "      <td>mild</td>\n",
       "      <td>high</td>\n",
       "      <td>False</td>\n",
       "      <td>n</td>\n",
       "    </tr>\n",
       "    <tr>\n",
       "      <th>11</th>\n",
       "      <td>overcast</td>\n",
       "      <td>mild</td>\n",
       "      <td>high</td>\n",
       "      <td>True</td>\n",
       "      <td>p</td>\n",
       "    </tr>\n",
       "  </tbody>\n",
       "</table>\n",
       "</div>"
      ],
      "text/plain": [
       "     outlook temperature humidity  windy label\n",
       "0      sunny         hot     high  False     n\n",
       "1      sunny         hot     high   True     n\n",
       "2   overcast         hot     high  False     p\n",
       "3       rain        mild     high  False     p\n",
       "7      sunny        mild     high  False     n\n",
       "11  overcast        mild     high   True     p"
      ]
     },
     "execution_count": 12,
     "metadata": {},
     "output_type": "execute_result"
    }
   ],
   "source": [
    "weather[weather['humidity'] == 'high']"
   ]
  },
  {
   "cell_type": "code",
   "execution_count": 13,
   "metadata": {
    "collapsed": false
   },
   "outputs": [
    {
     "data": {
      "text/plain": [
       "0.009365598883735893"
      ]
     },
     "execution_count": 13,
     "metadata": {},
     "output_type": "execute_result"
    }
   ],
   "source": [
    "def info_gain(examples, attribute):\n",
    "    total_gain = entropy(examples)\n",
    "\n",
    "    for attr_value in examples[attribute].unique():\n",
    "        attr_subset = examples[examples[attribute] == attr_value]\n",
    "        if len(attr_subset):\n",
    "            total_gain -= len(attr_subset) / float(len(examples)) * entropy(attr_subset)\n",
    "    \n",
    "    return total_gain\n",
    "    \n",
    "info_gain(examples, 'humidity')"
   ]
  },
  {
   "cell_type": "markdown",
   "metadata": {},
   "source": [
    "## Finding a split on discrete-valued features"
   ]
  },
  {
   "cell_type": "code",
   "execution_count": 14,
   "metadata": {
    "collapsed": false
   },
   "outputs": [
    {
     "data": {
      "text/plain": [
       "['outlook', 'temperature', 'humidity', 'windy']"
      ]
     },
     "execution_count": 14,
     "metadata": {},
     "output_type": "execute_result"
    }
   ],
   "source": [
    "feature_cols = [c for c in weather.columns if c != 'label']\n",
    "feature_cols"
   ]
  },
  {
   "cell_type": "code",
   "execution_count": 15,
   "metadata": {
    "collapsed": false
   },
   "outputs": [
    {
     "name": "stdout",
     "output_type": "stream",
     "text": [
      "InfoGain(outlook) = 0.144\n",
      "InfoGain(temperature) = 0.086\n",
      "InfoGain(humidity) = 0.009\n",
      "InfoGain(windy) = -0.030\n"
     ]
    }
   ],
   "source": [
    "for c in feature_cols:\n",
    "    print 'InfoGain(%s) = %.3f' % (c, info_gain(examples, c))"
   ]
  },
  {
   "cell_type": "code",
   "execution_count": 16,
   "metadata": {
    "collapsed": false
   },
   "outputs": [
    {
     "name": "stdout",
     "output_type": "stream",
     "text": [
      "Splitting 13 examples with current entropy 0.890\n"
     ]
    },
    {
     "data": {
      "text/plain": [
       "'outlook'"
      ]
     },
     "execution_count": 16,
     "metadata": {},
     "output_type": "execute_result"
    }
   ],
   "source": [
    "def find_split(current_set):\n",
    "    print 'Splitting %d examples with current entropy %.3f' % (\n",
    "        len(current_set), entropy(current_set))\n",
    "    \n",
    "    best_gain = None\n",
    "    split_attr = None\n",
    "    for c in feature_cols:\n",
    "        gain = info_gain(current_set, c)\n",
    "        #print 'InfoGain(%s) = %.3f' % (c, gain)\n",
    "        if best_gain is None or gain > best_gain:\n",
    "            split_attr = c\n",
    "            best_gain = gain\n",
    "            \n",
    "    #print 'Max info gain split for attr %s of %.3f' % (split_attr, best_gain)\n",
    "    return split_attr\n",
    "        \n",
    "find_split(examples)"
   ]
  },
  {
   "cell_type": "markdown",
   "metadata": {},
   "source": [
    "## Building the tree recusively"
   ]
  },
  {
   "cell_type": "code",
   "execution_count": 17,
   "metadata": {
    "collapsed": false
   },
   "outputs": [
    {
     "name": "stdout",
     "output_type": "stream",
     "text": [
      "Splitting 13 examples with current entropy 0.890\n",
      "Splitting 5 examples with current entropy 0.904\n",
      "Splitting 2 examples with current entropy 0.415\n",
      "Splitting 2 examples with current entropy 0.569\n",
      "Splitting 4 examples with current entropy 0.523\n",
      "Splitting 2 examples with current entropy 0.415\n",
      "Splitting 4 examples with current entropy 0.773\n",
      "Splitting 3 examples with current entropy 0.488\n",
      "Splitting 2 examples with current entropy 0.415\n"
     ]
    },
    {
     "data": {
      "text/plain": [
       "[('sunny',\n",
       "  [('hot', [(False, 'n'), (True, 'n')]),\n",
       "   ('mild', [('high', 'n'), ('normal', 'p')]),\n",
       "   ('cool', 'p')]),\n",
       " ('overcast',\n",
       "  [('hot', [('high', 'p'), ('normal', 'p')]), ('cool', 'p'), ('mild', 'p')]),\n",
       " ('rain',\n",
       "  [(False, [('high', 'p'), ('normal', [('cool', 'p'), ('mild', 'p')])]),\n",
       "   (True, 'n')])]"
      ]
     },
     "execution_count": 17,
     "metadata": {},
     "output_type": "execute_result"
    }
   ],
   "source": [
    "def build_tree(current_examples):\n",
    "    if len(current_examples) == 1:\n",
    "        return current_examples.iloc[0].label\n",
    "    \n",
    "    split_attr = find_split(current_examples)\n",
    "    split_attr_values = current_examples[split_attr].unique()\n",
    "    tree = []\n",
    "    for v in split_attr_values:\n",
    "        v_subset = current_examples[current_examples[split_attr] == v]\n",
    "        v_subtree = build_tree(v_subset)\n",
    "        tree.append((v, v_subtree))\n",
    "\n",
    "    return tree\n",
    "    \n",
    "build_tree(examples)"
   ]
  },
  {
   "cell_type": "markdown",
   "metadata": {},
   "source": [
    "## Splitting on continuous attributes"
   ]
  },
  {
   "cell_type": "code",
   "execution_count": 3,
   "metadata": {
    "collapsed": false
   },
   "outputs": [
    {
     "data": {
      "text/plain": [
       "class\n",
       "0    23\n",
       "1     7\n",
       "dtype: int64"
      ]
     },
     "execution_count": 3,
     "metadata": {},
     "output_type": "execute_result"
    }
   ],
   "source": [
    "wine = pandas.read_csv(StringIO('''\\\n",
    "fixed_acidity,volatile_acidity,citric_acid,residual_sugar,free_sulfur_dioxide,total_sulfur_dioxide,ph,class\n",
    "5.3,0.31,0.38,10.5,53.0,140.0,3.34,0\n",
    "8.2,0.885,0.2,1.4,7.0,31.0,3.11,1\n",
    "7.3,0.38,0.23,6.5,18.0,102.0,3.1,0\n",
    "7.3,1.07,0.09,1.7,10.0,89.0,3.3,1\n",
    "7.2,0.54,0.27,2.6,12.0,78.0,3.39,1\n",
    "6.3,0.22,0.22,5.6,31.0,128.0,3.12,0\n",
    "6.2,0.3,0.17,2.8,24.0,125.0,3.01,0\n",
    "6.5,0.38,0.26,5.2,33.0,112.0,3.06,0\n",
    "6.7,0.25,0.26,13.5,50.0,156.0,3.39,0\n",
    "6.4,0.38,0.24,7.2,41.0,151.0,3.11,0\n",
    "7.6,0.36,0.49,11.3,87.0,221.0,3.01,0\n",
    "6.5,0.36,0.28,3.2,29.0,119.0,3.25,0\n",
    "6.6,0.38,0.28,2.8,17.0,67.0,3.21,0\n",
    "7.3,0.26,0.32,1.2,29.0,94.0,3.07,0\n",
    "15.0,0.21,0.44,2.2,10.0,24.0,3.07,1\n",
    "7.9,0.19,0.26,2.1,8.0,143.0,3.05,0\n",
    "8.5,0.25,0.31,2.8,11.0,61.0,3.06,0\n",
    "7.7,0.64,0.21,2.2,32.0,133.0,3.27,1\n",
    "7.4,0.24,0.42,14.0,48.0,198.0,2.89,0\n",
    "6.8,0.22,0.35,17.5,38.0,153.0,3.24,0\n",
    "7.1,0.31,0.38,1.2,10.0,124.0,3.14,0\n",
    "6.5,0.37,0.33,3.5,23.0,92.0,3.18,0\n",
    "7.1,0.28,0.49,6.5,28.0,111.0,3.41,0\n",
    "12.2,0.45,0.49,1.4,3.0,6.0,3.13,1\n",
    "7.2,0.66,0.33,2.5,34.0,102.0,3.27,1\n",
    "6.8,0.18,0.28,8.5,52.0,242.0,3.22,0\n",
    "7.6,0.3,0.27,10.6,31.0,119.0,3.27,0\n",
    "6.2,0.2,0.32,2.8,17.0,126.0,3.18,0\n",
    "7.4,0.16,0.27,15.5,25.0,135.0,2.9,0\n",
    "6.8,0.34,0.69,1.3,12.0,171.0,3.06,0'''))\n",
    "wine.groupby('class').size()"
   ]
  },
  {
   "cell_type": "code",
   "execution_count": 4,
   "metadata": {
    "collapsed": false,
    "scrolled": true
   },
   "outputs": [
    {
     "data": {
      "text/html": [
       "<div>\n",
       "<style>\n",
       "    .dataframe thead tr:only-child th {\n",
       "        text-align: right;\n",
       "    }\n",
       "\n",
       "    .dataframe thead th {\n",
       "        text-align: left;\n",
       "    }\n",
       "\n",
       "    .dataframe tbody tr th {\n",
       "        vertical-align: top;\n",
       "    }\n",
       "</style>\n",
       "<table border=\"1\" class=\"dataframe\">\n",
       "  <thead>\n",
       "    <tr style=\"text-align: right;\">\n",
       "      <th></th>\n",
       "      <th>fixed_acidity</th>\n",
       "      <th>volatile_acidity</th>\n",
       "      <th>citric_acid</th>\n",
       "      <th>residual_sugar</th>\n",
       "      <th>free_sulfur_dioxide</th>\n",
       "      <th>total_sulfur_dioxide</th>\n",
       "      <th>ph</th>\n",
       "      <th>class</th>\n",
       "    </tr>\n",
       "  </thead>\n",
       "  <tbody>\n",
       "    <tr>\n",
       "      <th>0</th>\n",
       "      <td>5.3</td>\n",
       "      <td>0.310</td>\n",
       "      <td>0.38</td>\n",
       "      <td>10.5</td>\n",
       "      <td>53.0</td>\n",
       "      <td>140.0</td>\n",
       "      <td>3.34</td>\n",
       "      <td>0</td>\n",
       "    </tr>\n",
       "    <tr>\n",
       "      <th>1</th>\n",
       "      <td>8.2</td>\n",
       "      <td>0.885</td>\n",
       "      <td>0.20</td>\n",
       "      <td>1.4</td>\n",
       "      <td>7.0</td>\n",
       "      <td>31.0</td>\n",
       "      <td>3.11</td>\n",
       "      <td>1</td>\n",
       "    </tr>\n",
       "    <tr>\n",
       "      <th>2</th>\n",
       "      <td>7.3</td>\n",
       "      <td>0.380</td>\n",
       "      <td>0.23</td>\n",
       "      <td>6.5</td>\n",
       "      <td>18.0</td>\n",
       "      <td>102.0</td>\n",
       "      <td>3.10</td>\n",
       "      <td>0</td>\n",
       "    </tr>\n",
       "  </tbody>\n",
       "</table>\n",
       "</div>"
      ],
      "text/plain": [
       "   fixed_acidity  volatile_acidity  citric_acid  residual_sugar  \\\n",
       "0            5.3             0.310         0.38            10.5   \n",
       "1            8.2             0.885         0.20             1.4   \n",
       "2            7.3             0.380         0.23             6.5   \n",
       "\n",
       "   free_sulfur_dioxide  total_sulfur_dioxide    ph  class  \n",
       "0                 53.0                 140.0  3.34      0  \n",
       "1                  7.0                  31.0  3.11      1  \n",
       "2                 18.0                 102.0  3.10      0  "
      ]
     },
     "execution_count": 4,
     "metadata": {},
     "output_type": "execute_result"
    }
   ],
   "source": [
    "wine[:3]"
   ]
  },
  {
   "cell_type": "code",
   "execution_count": 13,
   "metadata": {
    "collapsed": false
   },
   "outputs": [
    {
     "data": {
      "text/plain": [
       "30"
      ]
     },
     "execution_count": 13,
     "metadata": {},
     "output_type": "execute_result"
    }
   ],
   "source": [
    "len(wine)"
   ]
  },
  {
   "cell_type": "markdown",
   "metadata": {},
   "source": [
    "\n",
    "## Using scikit-learn"
   ]
  },
  {
   "cell_type": "code",
   "execution_count": 5,
   "metadata": {
    "collapsed": true
   },
   "outputs": [],
   "source": [
    "wine_label_col = 'class'\n",
    "wine_feature_cols = [c for c in wine.columns if c != wine_label_col]"
   ]
  },
  {
   "cell_type": "code",
   "execution_count": 6,
   "metadata": {
    "collapsed": false
   },
   "outputs": [
    {
     "data": {
      "text/plain": [
       "DecisionTreeClassifier(class_weight=None, criterion='entropy', max_depth=None,\n",
       "            max_features=None, max_leaf_nodes=None,\n",
       "            min_impurity_split=1e-07, min_samples_leaf=1,\n",
       "            min_samples_split=2, min_weight_fraction_leaf=0.0,\n",
       "            presort=False, random_state=None, splitter='best')"
      ]
     },
     "execution_count": 6,
     "metadata": {},
     "output_type": "execute_result"
    }
   ],
   "source": [
    "import sklearn.tree\n",
    "\n",
    "dtree = sklearn.tree.DecisionTreeClassifier(criterion='entropy')\n",
    "dtree.fit(wine[wine_feature_cols], wine[wine_label_col])"
   ]
  },
  {
   "cell_type": "code",
   "execution_count": 7,
   "metadata": {
    "collapsed": false
   },
   "outputs": [
    {
     "data": {
      "text/plain": [
       "array([0, 1, 0, 1, 1, 0, 0, 0, 0, 0, 0, 0, 0, 0, 1, 0, 0, 1, 0, 0, 0, 0, 0,\n",
       "       1, 1, 0, 0, 0, 0, 0], dtype=int64)"
      ]
     },
     "execution_count": 7,
     "metadata": {},
     "output_type": "execute_result"
    }
   ],
   "source": [
    "class_preds = dtree.predict(wine[wine_feature_cols])\n",
    "class_preds"
   ]
  },
  {
   "cell_type": "code",
   "execution_count": 8,
   "metadata": {
    "collapsed": false
   },
   "outputs": [
    {
     "name": "stdout",
     "output_type": "stream",
     "text": [
      "Accuracy on training set: 100.0%\n"
     ]
    }
   ],
   "source": [
    "num_correct = 0\n",
    "for pred, actual in zip(class_preds, wine['class']):\n",
    "    if pred == actual:\n",
    "        num_correct +=1\n",
    "print 'Accuracy on training set: %.1f%%' % (num_correct / float(len(wine)) * 100 )"
   ]
  },
  {
   "cell_type": "markdown",
   "metadata": {},
   "source": [
    "## Visualizing your tree models\n",
    "\n",
    "You'll need to go install [graphviz](http://www.graphviz.org/) for the following to work, and also the python `pydot` package."
   ]
  },
  {
   "cell_type": "code",
   "execution_count": 11,
   "metadata": {
    "collapsed": false
   },
   "outputs": [
    {
     "data": {
      "image/png": "[encoded data removed]",
      "text/plain": [
       "<IPython.core.display.Image object>"
      ]
     },
     "execution_count": 11,
     "metadata": {},
     "output_type": "execute_result"
    }
   ],
   "source": [
    "from IPython.display import Image\n",
    "import pydot\n",
    "\n",
    "def tree_viz(sklearn_dtree):\n",
    "    temp_buffer = StringIO() # use an in-memory file-like object instead of tmp file\n",
    "    sklearn.tree.export_graphviz(sklearn_dtree, out_file=temp_buffer)\n",
    "    temp_buffer.seek(0) # rewind the in-memory buffer to start\n",
    "    graph, = pydot.graph_from_dot_data(temp_buffer.read())  \n",
    "    return Image(graph.create_png()) \n",
    "\n",
    "tree_viz(dtree)"
   ]
  },
  {
   "cell_type": "code",
   "execution_count": 10,
   "metadata": {
    "collapsed": false
   },
   "outputs": [
    {
     "name": "stderr",
     "output_type": "stream",
     "text": [
      "ImportError: No module named site\n"
     ]
    }
   ],
   "source": []
  },
  {
   "cell_type": "code",
   "execution_count": null,
   "metadata": {
    "collapsed": true
   },
   "outputs": [],
   "source": []
  }
 ],
 "metadata": {
  "kernelspec": {
   "display_name": "Python 2",
   "language": "python",
   "name": "python2"
  },
  "language_info": {
   "codemirror_mode": {
    "name": "ipython",
    "version": 2
   },
   "file_extension": ".py",
   "mimetype": "text/x-python",
   "name": "python",
   "nbconvert_exporter": "python",
   "pygments_lexer": "ipython2",
   "version": "2.7.13"
  }
 },
 "nbformat": 4,
 "nbformat_minor": 0
}
